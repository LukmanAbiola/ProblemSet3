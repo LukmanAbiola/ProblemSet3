{
  "nbformat": 4,
  "nbformat_minor": 0,
  "metadata": {
    "colab": {
      "provenance": []
    },
    "kernelspec": {
      "name": "python3",
      "display_name": "Python 3"
    },
    "language_info": {
      "name": "python"
    }
  },
  "cells": [
    {
      "cell_type": "markdown",
      "source": [
        "##Question 2"
      ],
      "metadata": {
        "id": "ddiM8Qwi5f2y"
      }
    },
    {
      "cell_type": "markdown",
      "source": [
        "Step 1"
      ],
      "metadata": {
        "id": "ik86rGdSdnwa"
      }
    },
    {
      "cell_type": "code",
      "execution_count": null,
      "metadata": {
        "id": "ewYoOawBbrDG"
      },
      "outputs": [],
      "source": [
        "import pandas as pd"
      ]
    },
    {
      "cell_type": "markdown",
      "source": [
        "Step 2 and 3"
      ],
      "metadata": {
        "id": "KrAH0nwKdrHw"
      }
    },
    {
      "cell_type": "code",
      "source": [
        "euro12 = pd.read_csv(\"https://raw.githubusercontent.com/guipsamora/pandas_exercises/master/02_Filtering_%26_Sorting/Euro12/Euro_2012_stats_TEAM.csv\" , delimiter=\",\")\n",
        "print(\"Euro12 data:\")\n",
        "print(euro12.head())"
      ],
      "metadata": {
        "colab": {
          "base_uri": "https://localhost:8080/"
        },
        "id": "2YnSGHOubudo",
        "outputId": "12c5683a-87ce-4b38-a373-f9067af46e04"
      },
      "execution_count": null,
      "outputs": [
        {
          "output_type": "stream",
          "name": "stdout",
          "text": [
            "Euro12 data:\n",
            "             Team  Goals  Shots on target  Shots off target Shooting Accuracy  \\\n",
            "0         Croatia      4               13                12             51.9%   \n",
            "1  Czech Republic      4               13                18             41.9%   \n",
            "2         Denmark      4               10                10             50.0%   \n",
            "3         England      5               11                18             50.0%   \n",
            "4          France      3               22                24             37.9%   \n",
            "\n",
            "  % Goals-to-shots  Total shots (inc. Blocked)  Hit Woodwork  Penalty goals  \\\n",
            "0            16.0%                          32             0              0   \n",
            "1            12.9%                          39             0              0   \n",
            "2            20.0%                          27             1              0   \n",
            "3            17.2%                          40             0              0   \n",
            "4             6.5%                          65             1              0   \n",
            "\n",
            "   Penalties not scored  ...  Saves made  Saves-to-shots ratio  Fouls Won  \\\n",
            "0                     0  ...          13                 81.3%         41   \n",
            "1                     0  ...           9                 60.1%         53   \n",
            "2                     0  ...          10                 66.7%         25   \n",
            "3                     0  ...          22                 88.1%         43   \n",
            "4                     0  ...           6                 54.6%         36   \n",
            "\n",
            "  Fouls Conceded  Offsides  Yellow Cards  Red Cards  Subs on  Subs off  \\\n",
            "0             62         2             9          0        9         9   \n",
            "1             73         8             7          0       11        11   \n",
            "2             38         8             4          0        7         7   \n",
            "3             45         6             5          0       11        11   \n",
            "4             51         5             6          0       11        11   \n",
            "\n",
            "   Players Used  \n",
            "0            16  \n",
            "1            19  \n",
            "2            15  \n",
            "3            16  \n",
            "4            19  \n",
            "\n",
            "[5 rows x 35 columns]\n"
          ]
        }
      ]
    },
    {
      "cell_type": "code",
      "source": [
        "print(euro12.shape)"
      ],
      "metadata": {
        "colab": {
          "base_uri": "https://localhost:8080/"
        },
        "id": "hpNYF9Vyizfp",
        "outputId": "ac049a34-ef80-410f-816d-df12fcddab17"
      },
      "execution_count": null,
      "outputs": [
        {
          "output_type": "stream",
          "name": "stdout",
          "text": [
            "(16, 35)\n"
          ]
        }
      ]
    },
    {
      "cell_type": "markdown",
      "source": [
        "Step 4"
      ],
      "metadata": {
        "id": "6B2rVHsndlpp"
      }
    },
    {
      "cell_type": "code",
      "source": [
        "euro12_goals = euro12[['Goals']]\n",
        "print(\"Only the goals column: \")\n",
        "print(euro12_goals)"
      ],
      "metadata": {
        "colab": {
          "base_uri": "https://localhost:8080/"
        },
        "id": "rNJajv14cCMT",
        "outputId": "6d785b1d-7c27-4a52-b703-bb79a76cc82c"
      },
      "execution_count": null,
      "outputs": [
        {
          "output_type": "stream",
          "name": "stdout",
          "text": [
            "Onlt the goals column: \n",
            "    Goals\n",
            "0       4\n",
            "1       4\n",
            "2       4\n",
            "3       5\n",
            "4       3\n",
            "5      10\n",
            "6       5\n",
            "7       6\n",
            "8       2\n",
            "9       2\n",
            "10      6\n",
            "11      1\n",
            "12      5\n",
            "13     12\n",
            "14      5\n",
            "15      2\n"
          ]
        }
      ]
    },
    {
      "cell_type": "markdown",
      "source": [
        "Step 5"
      ],
      "metadata": {
        "id": "0sp57_rAdyT2"
      }
    },
    {
      "cell_type": "code",
      "source": [
        "number_of_teams_euro12 = euro12['Team'].unique()\n",
        "print(\"Teams participated in the Euro2012:\")\n",
        "print(number_of_teams_euro12)\n",
        "print(\"Total teams: \" , len(number_of_teams_euro12))"
      ],
      "metadata": {
        "colab": {
          "base_uri": "https://localhost:8080/"
        },
        "id": "-lK9ko0hdKAI",
        "outputId": "ef0766f2-a051-4728-c777-d4498ab4db5e"
      },
      "execution_count": null,
      "outputs": [
        {
          "output_type": "stream",
          "name": "stdout",
          "text": [
            "Teams participated in the Euro2012:\n",
            "['Croatia' 'Czech Republic' 'Denmark' 'England' 'France' 'Germany'\n",
            " 'Greece' 'Italy' 'Netherlands' 'Poland' 'Portugal' 'Republic of Ireland'\n",
            " 'Russia' 'Spain' 'Sweden' 'Ukraine']\n",
            "Total teams:  16\n"
          ]
        }
      ]
    },
    {
      "cell_type": "markdown",
      "source": [
        "Step 6"
      ],
      "metadata": {
        "id": "M4i5V2x-eSKa"
      }
    },
    {
      "cell_type": "code",
      "source": [
        "total_columns_in_data = euro12.shape[1]\n",
        "print(\"Number of columns in the dataset: \" , total_columns_in_data)"
      ],
      "metadata": {
        "colab": {
          "base_uri": "https://localhost:8080/"
        },
        "id": "hDuovqFMeFeR",
        "outputId": "10dec176-a37a-4148-dff2-53fc816a79dc"
      },
      "execution_count": null,
      "outputs": [
        {
          "output_type": "stream",
          "name": "stdout",
          "text": [
            "Number of columns in the dataset:  35\n"
          ]
        }
      ]
    },
    {
      "cell_type": "markdown",
      "source": [
        "Step 7"
      ],
      "metadata": {
        "id": "hcQbnUpJe8NQ"
      }
    },
    {
      "cell_type": "code",
      "source": [
        "discipline = euro12[[\"Team\", \"Yellow Cards\" , \"Red Cards\"]]\n",
        "print(\"Discipline dataframe:\")\n",
        "print(discipline)"
      ],
      "metadata": {
        "colab": {
          "base_uri": "https://localhost:8080/"
        },
        "id": "J5AG9kh8ehsq",
        "outputId": "fb65e907-98d6-4f65-e153-7e83c396c31e"
      },
      "execution_count": null,
      "outputs": [
        {
          "output_type": "stream",
          "name": "stdout",
          "text": [
            "Discipline dataframe:\n",
            "                   Team  Yellow Cards  Red Cards\n",
            "0               Croatia             9          0\n",
            "1        Czech Republic             7          0\n",
            "2               Denmark             4          0\n",
            "3               England             5          0\n",
            "4                France             6          0\n",
            "5               Germany             4          0\n",
            "6                Greece             9          1\n",
            "7                 Italy            16          0\n",
            "8           Netherlands             5          0\n",
            "9                Poland             7          1\n",
            "10             Portugal            12          0\n",
            "11  Republic of Ireland             6          1\n",
            "12               Russia             6          0\n",
            "13                Spain            11          0\n",
            "14               Sweden             7          0\n",
            "15              Ukraine             5          0\n"
          ]
        }
      ]
    },
    {
      "cell_type": "markdown",
      "source": [
        "Step 8"
      ],
      "metadata": {
        "id": "7Ny8jwhqgkcO"
      }
    },
    {
      "cell_type": "code",
      "source": [
        "discipline.sort_values(by=['Red Cards', 'Yellow Cards'], ascending = False, inplace = True)\n",
        "print(\"Sorted discipline:\")\n",
        "print(discipline)"
      ],
      "metadata": {
        "colab": {
          "base_uri": "https://localhost:8080/"
        },
        "id": "Z27RELYJeor2",
        "outputId": "2f7fbffa-8f09-42aa-bc2b-e90747a49ecf"
      },
      "execution_count": null,
      "outputs": [
        {
          "output_type": "stream",
          "name": "stdout",
          "text": [
            "Sorted discipline:\n",
            "                   Team  Yellow Cards  Red Cards\n",
            "6                Greece             9          1\n",
            "9                Poland             7          1\n",
            "11  Republic of Ireland             6          1\n",
            "7                 Italy            16          0\n",
            "10             Portugal            12          0\n",
            "13                Spain            11          0\n",
            "0               Croatia             9          0\n",
            "1        Czech Republic             7          0\n",
            "14               Sweden             7          0\n",
            "4                France             6          0\n",
            "12               Russia             6          0\n",
            "3               England             5          0\n",
            "8           Netherlands             5          0\n",
            "15              Ukraine             5          0\n",
            "2               Denmark             4          0\n",
            "5               Germany             4          0\n"
          ]
        },
        {
          "output_type": "stream",
          "name": "stderr",
          "text": [
            "<ipython-input-16-2b310c00d462>:1: SettingWithCopyWarning: \n",
            "A value is trying to be set on a copy of a slice from a DataFrame\n",
            "\n",
            "See the caveats in the documentation: https://pandas.pydata.org/pandas-docs/stable/user_guide/indexing.html#returning-a-view-versus-a-copy\n",
            "  discipline.sort_values(by=['Red Cards', 'Yellow Cards'], ascending = False, inplace = True)\n"
          ]
        }
      ]
    },
    {
      "cell_type": "markdown",
      "source": [
        "Step 9"
      ],
      "metadata": {
        "id": "gGQShRyMhO9G"
      }
    },
    {
      "cell_type": "code",
      "source": [
        "# mean_yellow_cards_per_team = discipline['Yellow Cards'].mean()\n",
        "mean_yellow_cards_per_team = discipline.groupby(\"Team\")[\"Yellow Cards\"].agg(mean_yellow_cards=\"mean\")\n",
        "print(\"Mean yellow cards per team: \")\n",
        "print(mean_yellow_cards_per_team)"
      ],
      "metadata": {
        "colab": {
          "base_uri": "https://localhost:8080/"
        },
        "id": "LCYOZecgg0_w",
        "outputId": "0e2a8b01-d08b-4470-a285-aa5adafe4f38"
      },
      "execution_count": null,
      "outputs": [
        {
          "output_type": "stream",
          "name": "stdout",
          "text": [
            "Mean yellow cards per team: \n",
            "                     mean_yellow_cards\n",
            "Team                                  \n",
            "Croatia                            9.0\n",
            "Czech Republic                     7.0\n",
            "Denmark                            4.0\n",
            "England                            5.0\n",
            "France                             6.0\n",
            "Germany                            4.0\n",
            "Greece                             9.0\n",
            "Italy                             16.0\n",
            "Netherlands                        5.0\n",
            "Poland                             7.0\n",
            "Portugal                          12.0\n",
            "Republic of Ireland                6.0\n",
            "Russia                             6.0\n",
            "Spain                             11.0\n",
            "Sweden                             7.0\n",
            "Ukraine                            5.0\n"
          ]
        }
      ]
    },
    {
      "cell_type": "markdown",
      "source": [
        "Step 10"
      ],
      "metadata": {
        "id": "kn0F0ZdHhRGq"
      }
    },
    {
      "cell_type": "code",
      "source": [
        "teams_with_more_than6_goals = euro12[euro12['Goals'] > 6]\n",
        "print(\"Teams with more than 6 goals:\")\n",
        "print(teams_with_more_than6_goals)"
      ],
      "metadata": {
        "colab": {
          "base_uri": "https://localhost:8080/"
        },
        "id": "ZkfjxJlEjX0Z",
        "outputId": "7a1d9973-0c6f-469e-ae51-32197d2463b6"
      },
      "execution_count": null,
      "outputs": [
        {
          "output_type": "stream",
          "name": "stdout",
          "text": [
            "Teams with more than 6 goals:\n",
            "       Team  Goals  Shots on target  Shots off target Shooting Accuracy  \\\n",
            "5   Germany     10               32                32             47.8%   \n",
            "13    Spain     12               42                33             55.9%   \n",
            "\n",
            "   % Goals-to-shots  Total shots (inc. Blocked)  Hit Woodwork  Penalty goals  \\\n",
            "5             15.6%                          80             2              1   \n",
            "13            16.0%                         100             0              1   \n",
            "\n",
            "    Penalties not scored  ...  Saves made  Saves-to-shots ratio  Fouls Won  \\\n",
            "5                      0  ...          10                 62.6%         63   \n",
            "13                     0  ...          15                 93.8%        102   \n",
            "\n",
            "   Fouls Conceded  Offsides  Yellow Cards  Red Cards  Subs on  Subs off  \\\n",
            "5              49        12             4          0       15        15   \n",
            "13             83        19            11          0       17        17   \n",
            "\n",
            "    Players Used  \n",
            "5             17  \n",
            "13            18  \n",
            "\n",
            "[2 rows x 35 columns]\n"
          ]
        }
      ]
    },
    {
      "cell_type": "markdown",
      "source": [
        "Step 11"
      ],
      "metadata": {
        "id": "thzHftg_j_rb"
      }
    },
    {
      "cell_type": "code",
      "source": [
        "teams_starting_with_g = euro12[euro12['Team'].str[0] == 'G']\n",
        "print(\"Teams starting with a G:\")\n",
        "print(teams_starting_with_g)"
      ],
      "metadata": {
        "colab": {
          "base_uri": "https://localhost:8080/"
        },
        "id": "BgDF4devkWLz",
        "outputId": "e5dcd57b-2b3d-4d4a-fe2a-5b26b6b0accb"
      },
      "execution_count": null,
      "outputs": [
        {
          "output_type": "stream",
          "name": "stdout",
          "text": [
            "Teams starting with a G:\n",
            "      Team  Goals  Shots on target  Shots off target Shooting Accuracy  \\\n",
            "5  Germany     10               32                32             47.8%   \n",
            "6   Greece      5                8                18             30.7%   \n",
            "\n",
            "  % Goals-to-shots  Total shots (inc. Blocked)  Hit Woodwork  Penalty goals  \\\n",
            "5            15.6%                          80             2              1   \n",
            "6            19.2%                          32             1              1   \n",
            "\n",
            "   Penalties not scored  ...  Saves made  Saves-to-shots ratio  Fouls Won  \\\n",
            "5                     0  ...          10                 62.6%         63   \n",
            "6                     1  ...          13                 65.1%         67   \n",
            "\n",
            "  Fouls Conceded  Offsides  Yellow Cards  Red Cards  Subs on  Subs off  \\\n",
            "5             49        12             4          0       15        15   \n",
            "6             48        12             9          1       12        12   \n",
            "\n",
            "   Players Used  \n",
            "5            17  \n",
            "6            20  \n",
            "\n",
            "[2 rows x 35 columns]\n"
          ]
        }
      ]
    },
    {
      "cell_type": "markdown",
      "source": [
        "Step 12"
      ],
      "metadata": {
        "id": "RvNzcwBnk3uo"
      }
    },
    {
      "cell_type": "code",
      "source": [
        "euro12_first_7 = euro12.iloc[: , :7]\n",
        "print(\"First 7 columns from euro12:\")\n",
        "print(euro12_first_7)"
      ],
      "metadata": {
        "colab": {
          "base_uri": "https://localhost:8080/"
        },
        "id": "WagMx4xfkft0",
        "outputId": "67ff61e8-edc0-4a89-81fb-23d66c7ccaf5"
      },
      "execution_count": null,
      "outputs": [
        {
          "output_type": "stream",
          "name": "stdout",
          "text": [
            "First 7 columns from euro12:\n",
            "                   Team  Goals  Shots on target  Shots off target  \\\n",
            "0               Croatia      4               13                12   \n",
            "1        Czech Republic      4               13                18   \n",
            "2               Denmark      4               10                10   \n",
            "3               England      5               11                18   \n",
            "4                France      3               22                24   \n",
            "5               Germany     10               32                32   \n",
            "6                Greece      5                8                18   \n",
            "7                 Italy      6               34                45   \n",
            "8           Netherlands      2               12                36   \n",
            "9                Poland      2               15                23   \n",
            "10             Portugal      6               22                42   \n",
            "11  Republic of Ireland      1                7                12   \n",
            "12               Russia      5                9                31   \n",
            "13                Spain     12               42                33   \n",
            "14               Sweden      5               17                19   \n",
            "15              Ukraine      2                7                26   \n",
            "\n",
            "   Shooting Accuracy % Goals-to-shots  Total shots (inc. Blocked)  \n",
            "0              51.9%            16.0%                          32  \n",
            "1              41.9%            12.9%                          39  \n",
            "2              50.0%            20.0%                          27  \n",
            "3              50.0%            17.2%                          40  \n",
            "4              37.9%             6.5%                          65  \n",
            "5              47.8%            15.6%                          80  \n",
            "6              30.7%            19.2%                          32  \n",
            "7              43.0%             7.5%                         110  \n",
            "8              25.0%             4.1%                          60  \n",
            "9              39.4%             5.2%                          48  \n",
            "10             34.3%             9.3%                          82  \n",
            "11             36.8%             5.2%                          28  \n",
            "12             22.5%            12.5%                          59  \n",
            "13             55.9%            16.0%                         100  \n",
            "14             47.2%            13.8%                          39  \n",
            "15             21.2%             6.0%                          38  \n"
          ]
        }
      ]
    },
    {
      "cell_type": "markdown",
      "source": [
        "Step 13"
      ],
      "metadata": {
        "id": "DJoPQiIalT5s"
      }
    },
    {
      "cell_type": "code",
      "source": [
        "euro12_except_last_3 = euro12.iloc[: , :-3]\n",
        "print(\"All columns except last 3 columns from euro12:\")\n",
        "print(euro12_except_last_3)"
      ],
      "metadata": {
        "colab": {
          "base_uri": "https://localhost:8080/"
        },
        "id": "Op1LFZ2IlIRh",
        "outputId": "c3089f8c-3fa3-4ad8-9afc-cf8f72ae7310"
      },
      "execution_count": null,
      "outputs": [
        {
          "output_type": "stream",
          "name": "stdout",
          "text": [
            "All columns except last 3 columns from euro12:\n",
            "                   Team  Goals  Shots on target  Shots off target  \\\n",
            "0               Croatia      4               13                12   \n",
            "1        Czech Republic      4               13                18   \n",
            "2               Denmark      4               10                10   \n",
            "3               England      5               11                18   \n",
            "4                France      3               22                24   \n",
            "5               Germany     10               32                32   \n",
            "6                Greece      5                8                18   \n",
            "7                 Italy      6               34                45   \n",
            "8           Netherlands      2               12                36   \n",
            "9                Poland      2               15                23   \n",
            "10             Portugal      6               22                42   \n",
            "11  Republic of Ireland      1                7                12   \n",
            "12               Russia      5                9                31   \n",
            "13                Spain     12               42                33   \n",
            "14               Sweden      5               17                19   \n",
            "15              Ukraine      2                7                26   \n",
            "\n",
            "   Shooting Accuracy % Goals-to-shots  Total shots (inc. Blocked)  \\\n",
            "0              51.9%            16.0%                          32   \n",
            "1              41.9%            12.9%                          39   \n",
            "2              50.0%            20.0%                          27   \n",
            "3              50.0%            17.2%                          40   \n",
            "4              37.9%             6.5%                          65   \n",
            "5              47.8%            15.6%                          80   \n",
            "6              30.7%            19.2%                          32   \n",
            "7              43.0%             7.5%                         110   \n",
            "8              25.0%             4.1%                          60   \n",
            "9              39.4%             5.2%                          48   \n",
            "10             34.3%             9.3%                          82   \n",
            "11             36.8%             5.2%                          28   \n",
            "12             22.5%            12.5%                          59   \n",
            "13             55.9%            16.0%                         100   \n",
            "14             47.2%            13.8%                          39   \n",
            "15             21.2%             6.0%                          38   \n",
            "\n",
            "    Hit Woodwork  Penalty goals  Penalties not scored  ...  Clean Sheets  \\\n",
            "0              0              0                     0  ...             0   \n",
            "1              0              0                     0  ...             1   \n",
            "2              1              0                     0  ...             1   \n",
            "3              0              0                     0  ...             2   \n",
            "4              1              0                     0  ...             1   \n",
            "5              2              1                     0  ...             1   \n",
            "6              1              1                     1  ...             1   \n",
            "7              2              0                     0  ...             2   \n",
            "8              2              0                     0  ...             0   \n",
            "9              0              0                     0  ...             0   \n",
            "10             6              0                     0  ...             2   \n",
            "11             0              0                     0  ...             0   \n",
            "12             2              0                     0  ...             0   \n",
            "13             0              1                     0  ...             5   \n",
            "14             3              0                     0  ...             1   \n",
            "15             0              0                     0  ...             0   \n",
            "\n",
            "    Blocks  Goals conceded Saves made  Saves-to-shots ratio  Fouls Won  \\\n",
            "0       10               3         13                 81.3%         41   \n",
            "1       10               6          9                 60.1%         53   \n",
            "2       10               5         10                 66.7%         25   \n",
            "3       29               3         22                 88.1%         43   \n",
            "4        7               5          6                 54.6%         36   \n",
            "5       11               6         10                 62.6%         63   \n",
            "6       23               7         13                 65.1%         67   \n",
            "7       18               7         20                 74.1%        101   \n",
            "8        9               5         12                 70.6%         35   \n",
            "9        8               3          6                 66.7%         48   \n",
            "10      11               4         10                 71.5%         73   \n",
            "11      23               9         17                 65.4%         43   \n",
            "12       8               3         10                 77.0%         34   \n",
            "13       8               1         15                 93.8%        102   \n",
            "14      12               5          8                 61.6%         35   \n",
            "15       4               4         13                 76.5%         48   \n",
            "\n",
            "    Fouls Conceded  Offsides  Yellow Cards  Red Cards  \n",
            "0               62         2             9          0  \n",
            "1               73         8             7          0  \n",
            "2               38         8             4          0  \n",
            "3               45         6             5          0  \n",
            "4               51         5             6          0  \n",
            "5               49        12             4          0  \n",
            "6               48        12             9          1  \n",
            "7               89        16            16          0  \n",
            "8               30         3             5          0  \n",
            "9               56         3             7          1  \n",
            "10              90        10            12          0  \n",
            "11              51        11             6          1  \n",
            "12              43         4             6          0  \n",
            "13              83        19            11          0  \n",
            "14              51         7             7          0  \n",
            "15              31         4             5          0  \n",
            "\n",
            "[16 rows x 32 columns]\n"
          ]
        }
      ]
    },
    {
      "cell_type": "markdown",
      "source": [
        "Step 14"
      ],
      "metadata": {
        "id": "h1SkrIpLl3HX"
      }
    },
    {
      "cell_type": "code",
      "source": [
        "shooting_accuracy_from_selected_teams = euro12[euro12['Team'].isin(['England', 'Italy', 'Russia'])][['Team', 'Shooting Accuracy']]\n",
        "print(\"Shooting accuracy from England, Italy and Russia:\")\n",
        "print(shooting_accuracy_from_selected_teams)"
      ],
      "metadata": {
        "colab": {
          "base_uri": "https://localhost:8080/"
        },
        "id": "f1GpAZLulpNv",
        "outputId": "080db3f4-6247-4d0c-f8d1-6c26cd9a0e69"
      },
      "execution_count": null,
      "outputs": [
        {
          "output_type": "stream",
          "name": "stdout",
          "text": [
            "Shooting accuracy from England, Italy and Russia:\n",
            "       Team Shooting Accuracy\n",
            "3   England             50.0%\n",
            "7     Italy             43.0%\n",
            "12   Russia             22.5%\n"
          ]
        }
      ]
    },
    {
      "cell_type": "code",
      "source": [],
      "metadata": {
        "id": "vVorm-76mN1n"
      },
      "execution_count": null,
      "outputs": []
    }
  ]
}