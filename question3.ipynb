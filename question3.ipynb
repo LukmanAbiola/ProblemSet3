{
  "nbformat": 4,
  "nbformat_minor": 0,
  "metadata": {
    "colab": {
      "provenance": []
    },
    "kernelspec": {
      "name": "python3",
      "display_name": "Python 3"
    },
    "language_info": {
      "name": "python"
    }
  },
  "cells": [
    {
      "cell_type": "markdown",
      "source": [
        "##Question 3"
      ],
      "metadata": {
        "id": "jl2Xsrrf5ZJK"
      }
    },
    {
      "cell_type": "markdown",
      "source": [
        "Step 1"
      ],
      "metadata": {
        "id": "CGiHd9rN-7cO"
      }
    },
    {
      "cell_type": "code",
      "execution_count": 2,
      "metadata": {
        "id": "8JFKsCmS-Uob"
      },
      "outputs": [],
      "source": [
        "import pandas as pd\n",
        "import numpy as np"
      ]
    },
    {
      "cell_type": "code",
      "source": [
        "series_1 = pd.Series(np.random.randint(1, 5, size=100))\n",
        "series_2 = pd.Series(np.random.randint(1, 3, size=100))\n",
        "series_3 = pd.Series(np.random.randint(10000, 30001, size=100))\n",
        "\n",
        "print(\"Series 1: \\n\" , series_1)\n",
        "print(\"Series 2: \\n\" , series_2)\n",
        "print(\"Series 3: \\n\" , series_3)"
      ],
      "metadata": {
        "colab": {
          "base_uri": "https://localhost:8080/"
        },
        "id": "Lk3_hFCt-dLk",
        "outputId": "7d148415-d75c-4d83-8469-00042b722081"
      },
      "execution_count": 3,
      "outputs": [
        {
          "output_type": "stream",
          "name": "stdout",
          "text": [
            "Series 1: \n",
            " 0     4\n",
            "1     3\n",
            "2     3\n",
            "3     2\n",
            "4     3\n",
            "     ..\n",
            "95    2\n",
            "96    3\n",
            "97    3\n",
            "98    3\n",
            "99    1\n",
            "Length: 100, dtype: int64\n",
            "Series 2: \n",
            " 0     2\n",
            "1     2\n",
            "2     1\n",
            "3     2\n",
            "4     2\n",
            "     ..\n",
            "95    1\n",
            "96    2\n",
            "97    1\n",
            "98    2\n",
            "99    2\n",
            "Length: 100, dtype: int64\n",
            "Series 3: \n",
            " 0     18589\n",
            "1     10167\n",
            "2     10414\n",
            "3     25928\n",
            "4     14552\n",
            "      ...  \n",
            "95    13936\n",
            "96    18983\n",
            "97    28013\n",
            "98    20548\n",
            "99    24990\n",
            "Length: 100, dtype: int64\n"
          ]
        }
      ]
    },
    {
      "cell_type": "markdown",
      "source": [
        "Step 3"
      ],
      "metadata": {
        "id": "aSX64mCC_0Sr"
      }
    },
    {
      "cell_type": "code",
      "source": [
        "df = pd.concat([series_1, series_2, series_3], axis=1)\n",
        "print(df.head())"
      ],
      "metadata": {
        "colab": {
          "base_uri": "https://localhost:8080/"
        },
        "id": "jc9bWRRk_WSL",
        "outputId": "b99c1a4c-c109-4702-d8ca-cc2499cd8403"
      },
      "execution_count": 4,
      "outputs": [
        {
          "output_type": "stream",
          "name": "stdout",
          "text": [
            "   0  1      2\n",
            "0  4  2  18589\n",
            "1  3  2  10167\n",
            "2  3  1  10414\n",
            "3  2  2  25928\n",
            "4  3  2  14552\n"
          ]
        }
      ]
    },
    {
      "cell_type": "markdown",
      "source": [
        "Step 4"
      ],
      "metadata": {
        "id": "uxSraesnAaIL"
      }
    },
    {
      "cell_type": "code",
      "source": [
        "df.columns = ['bedrs', 'bathrs', 'price_sqr_meter']\n",
        "print(\"After column name changed:\\n\" , df.head())"
      ],
      "metadata": {
        "colab": {
          "base_uri": "https://localhost:8080/"
        },
        "id": "wkwWaockAETe",
        "outputId": "c6bf0bbb-014c-47f2-a5cf-6b37b6f00df7"
      },
      "execution_count": 5,
      "outputs": [
        {
          "output_type": "stream",
          "name": "stdout",
          "text": [
            "After column name changed:\n",
            "    bedrs  bathrs  price_sqr_meter\n",
            "0      4       2            18589\n",
            "1      3       2            10167\n",
            "2      3       1            10414\n",
            "3      2       2            25928\n",
            "4      3       2            14552\n"
          ]
        }
      ]
    },
    {
      "cell_type": "markdown",
      "source": [
        "Step 5"
      ],
      "metadata": {
        "id": "U5w5kaL3BKQu"
      }
    },
    {
      "cell_type": "code",
      "source": [
        "bigcolumn = pd.concat([series_1, series_2, series_3], axis=0)\n",
        "print(\"Bigcolumn dataframe:\\n\" , bigcolumn)"
      ],
      "metadata": {
        "colab": {
          "base_uri": "https://localhost:8080/"
        },
        "id": "9FkKqTl5AhCM",
        "outputId": "6d68d856-ea96-4224-f097-72d37ae78c16"
      },
      "execution_count": 6,
      "outputs": [
        {
          "output_type": "stream",
          "name": "stdout",
          "text": [
            "Bigcolumn dataframe:\n",
            " 0         4\n",
            "1         3\n",
            "2         3\n",
            "3         2\n",
            "4         3\n",
            "      ...  \n",
            "95    13936\n",
            "96    18983\n",
            "97    28013\n",
            "98    20548\n",
            "99    24990\n",
            "Length: 300, dtype: int64\n"
          ]
        }
      ]
    },
    {
      "cell_type": "markdown",
      "source": [
        "Step 6"
      ],
      "metadata": {
        "id": "PQokbcI-73UD"
      }
    },
    {
      "cell_type": "code",
      "source": [
        "print(\"Bigcolumn index: \")\n",
        "print(bigcolumn.index)\n",
        "\n",
        "# Yes the index is only going to 99, which is due to the fact that when we concatenated the 3 series, the original index from each series were retained"
      ],
      "metadata": {
        "colab": {
          "base_uri": "https://localhost:8080/"
        },
        "id": "EYPCQjEHA2bJ",
        "outputId": "52b27e6c-9267-4eed-e045-a6d47fe27090"
      },
      "execution_count": 8,
      "outputs": [
        {
          "output_type": "stream",
          "name": "stdout",
          "text": [
            "Bigcolumn index: \n",
            "Int64Index([ 0,  1,  2,  3,  4,  5,  6,  7,  8,  9,\n",
            "            ...\n",
            "            90, 91, 92, 93, 94, 95, 96, 97, 98, 99],\n",
            "           dtype='int64', length=300)\n"
          ]
        }
      ]
    },
    {
      "cell_type": "markdown",
      "source": [
        "Step 7"
      ],
      "metadata": {
        "id": "d0hLYzFP76De"
      }
    },
    {
      "cell_type": "code",
      "source": [
        "bigcolumn = bigcolumn.reset_index(drop=True)\n",
        "print(\"After index reset:\\n\" , bigcolumn)"
      ],
      "metadata": {
        "colab": {
          "base_uri": "https://localhost:8080/"
        },
        "id": "sYpPTaRoBOxe",
        "outputId": "9b941745-4e32-4af4-9246-29fae63ffd4c"
      },
      "execution_count": 9,
      "outputs": [
        {
          "output_type": "stream",
          "name": "stdout",
          "text": [
            "After index reset:\n",
            " 0          4\n",
            "1          3\n",
            "2          3\n",
            "3          2\n",
            "4          3\n",
            "       ...  \n",
            "295    13936\n",
            "296    18983\n",
            "297    28013\n",
            "298    20548\n",
            "299    24990\n",
            "Length: 300, dtype: int64\n"
          ]
        }
      ]
    },
    {
      "cell_type": "code",
      "source": [],
      "metadata": {
        "id": "_B9p9KBdB0xh"
      },
      "execution_count": null,
      "outputs": []
    }
  ]
}