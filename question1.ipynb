{
  "nbformat": 4,
  "nbformat_minor": 0,
  "metadata": {
    "colab": {
      "provenance": []
    },
    "kernelspec": {
      "name": "python3",
      "display_name": "Python 3"
    },
    "language_info": {
      "name": "python"
    }
  },
  "cells": [
    {
      "cell_type": "markdown",
      "source": [
        "##Question 1"
      ],
      "metadata": {
        "id": "Mixc41qM5d4I"
      }
    },
    {
      "cell_type": "markdown",
      "source": [
        "Step 1"
      ],
      "metadata": {
        "id": "poP-bkpWMzvl"
      }
    },
    {
      "cell_type": "code",
      "execution_count": null,
      "metadata": {
        "id": "7QB3G7jsLgEa"
      },
      "outputs": [],
      "source": [
        "import pandas as pd"
      ]
    },
    {
      "cell_type": "markdown",
      "source": [
        "Step 2 and 3"
      ],
      "metadata": {
        "id": "qKkpbFOfMxiN"
      }
    },
    {
      "cell_type": "code",
      "source": [
        "# step 2 and 3\n",
        "users = pd.read_csv(\"https://raw.githubusercontent.com/justmarkham/DAT8/master/data/u.user\" , delimiter='|')"
      ],
      "metadata": {
        "id": "BYiDJSfBLt5K"
      },
      "execution_count": null,
      "outputs": []
    },
    {
      "cell_type": "code",
      "source": [
        "print(users.head())"
      ],
      "metadata": {
        "colab": {
          "base_uri": "https://localhost:8080/"
        },
        "id": "kc8eotzoL3MX",
        "outputId": "97732586-7e49-40ec-c06b-5fdf4ced6559"
      },
      "execution_count": null,
      "outputs": [
        {
          "output_type": "stream",
          "name": "stdout",
          "text": [
            "   user_id  age gender  occupation zip_code\n",
            "0        1   24      M  technician    85711\n",
            "1        2   53      F       other    94043\n",
            "2        3   23      M      writer    32067\n",
            "3        4   24      M  technician    43537\n",
            "4        5   33      F       other    15213\n"
          ]
        }
      ]
    },
    {
      "cell_type": "markdown",
      "source": [
        "Step 4"
      ],
      "metadata": {
        "id": "ohf8g-f2Ms6L"
      }
    },
    {
      "cell_type": "code",
      "source": [
        "mean_age_per_occupation = users.groupby('occupation')['age'].mean().reset_index()\n",
        "mean_age_per_occupation = mean_age_per_occupation.rename(columns={'age': 'mean_age'})\n",
        "print(\"Mean age per occupation:\")\n",
        "print(mean_age_per_occupation)"
      ],
      "metadata": {
        "colab": {
          "base_uri": "https://localhost:8080/"
        },
        "id": "YIP5WlJxMkBr",
        "outputId": "8a2940ac-8749-42c7-943d-c9cf8e6a0add"
      },
      "execution_count": null,
      "outputs": [
        {
          "output_type": "stream",
          "name": "stdout",
          "text": [
            "Mean age per occupation:\n",
            "       occupation   mean_age\n",
            "0   administrator  38.746835\n",
            "1          artist  31.392857\n",
            "2          doctor  43.571429\n",
            "3        educator  42.010526\n",
            "4        engineer  36.388060\n",
            "5   entertainment  29.222222\n",
            "6       executive  38.718750\n",
            "7      healthcare  41.562500\n",
            "8       homemaker  32.571429\n",
            "9          lawyer  36.750000\n",
            "10      librarian  40.000000\n",
            "11      marketing  37.615385\n",
            "12           none  26.555556\n",
            "13          other  34.523810\n",
            "14     programmer  33.121212\n",
            "15        retired  63.071429\n",
            "16       salesman  35.666667\n",
            "17      scientist  35.548387\n",
            "18        student  22.081633\n",
            "19     technician  33.148148\n",
            "20         writer  36.311111\n"
          ]
        }
      ]
    },
    {
      "cell_type": "markdown",
      "source": [
        "Step 5"
      ],
      "metadata": {
        "id": "RBjvh6rMOMI2"
      }
    },
    {
      "cell_type": "code",
      "source": [
        "users_male = users[users['gender'] == \"M\"]\n",
        "# print(users_male)\n",
        "male_ratio_per_occupation = users_male.groupby(\"occupation\").size() / users.groupby(\"occupation\").size()\n",
        "# sorting in descending ratio\n",
        "male_ratio_per_occupation.sort_values(ascending = False, inplace = True)\n",
        "print(\"Male ratio per occupation (sorted descending):\")\n",
        "print(male_ratio_per_occupation)"
      ],
      "metadata": {
        "colab": {
          "base_uri": "https://localhost:8080/"
        },
        "id": "Q5eL4ySRNRDR",
        "outputId": "9b68ebf3-3669-4056-806b-ac41498d859d"
      },
      "execution_count": null,
      "outputs": [
        {
          "output_type": "stream",
          "name": "stdout",
          "text": [
            "Male ratio per occupation (sorted descending):\n",
            "occupation\n",
            "doctor           1.000000\n",
            "engineer         0.970149\n",
            "technician       0.962963\n",
            "retired          0.928571\n",
            "programmer       0.909091\n",
            "executive        0.906250\n",
            "scientist        0.903226\n",
            "entertainment    0.888889\n",
            "lawyer           0.833333\n",
            "salesman         0.750000\n",
            "educator         0.726316\n",
            "student          0.693878\n",
            "other            0.657143\n",
            "marketing        0.615385\n",
            "writer           0.577778\n",
            "none             0.555556\n",
            "administrator    0.544304\n",
            "artist           0.535714\n",
            "librarian        0.431373\n",
            "healthcare       0.312500\n",
            "homemaker        0.142857\n",
            "dtype: float64\n"
          ]
        }
      ]
    },
    {
      "cell_type": "markdown",
      "source": [
        "Step 6"
      ],
      "metadata": {
        "id": "tZvEM2Q0V8D_"
      }
    },
    {
      "cell_type": "code",
      "source": [
        "min_user_age_per_occupation = users.groupby(\"occupation\")['age'].agg(min_age = \"min\" , max_age = \"max\")\n",
        "print(\"For each occupation, the minimum and maximum ages:\")\n",
        "print(min_user_age_per_occupation)"
      ],
      "metadata": {
        "colab": {
          "base_uri": "https://localhost:8080/"
        },
        "id": "g0qN0g40T39F",
        "outputId": "cbc14983-ab01-45fd-a94b-a540f0ce11e5"
      },
      "execution_count": null,
      "outputs": [
        {
          "output_type": "stream",
          "name": "stdout",
          "text": [
            "For each occupation, the minimum and maximum ages:\n",
            "               min_age  max_age\n",
            "occupation                     \n",
            "administrator       21       70\n",
            "artist              19       48\n",
            "doctor              28       64\n",
            "educator            23       63\n",
            "engineer            22       70\n",
            "entertainment       15       50\n",
            "executive           22       69\n",
            "healthcare          22       62\n",
            "homemaker           20       50\n",
            "lawyer              21       53\n",
            "librarian           23       69\n",
            "marketing           24       55\n",
            "none                11       55\n",
            "other               13       64\n",
            "programmer          20       63\n",
            "retired             51       73\n",
            "salesman            18       66\n",
            "scientist           23       55\n",
            "student              7       42\n",
            "technician          21       55\n",
            "writer              18       60\n"
          ]
        }
      ]
    },
    {
      "cell_type": "markdown",
      "source": [
        "Step 7"
      ],
      "metadata": {
        "id": "LYQhrM-PXa_h"
      }
    },
    {
      "cell_type": "code",
      "source": [
        "mean_age_per_occupation_and_sex = users.groupby(['occupation', 'gender'])['age'].agg(mean_age = 'mean')\n",
        "print(\"For each combination of occupation and sex, the mean age:\")\n",
        "print(mean_age_per_occupation_and_sex)"
      ],
      "metadata": {
        "colab": {
          "base_uri": "https://localhost:8080/"
        },
        "id": "RGs2sKkjWWlY",
        "outputId": "63944d36-b1a8-492e-a31f-04dc028f6779"
      },
      "execution_count": null,
      "outputs": [
        {
          "output_type": "stream",
          "name": "stdout",
          "text": [
            "For each combination of occupation and sex, the mean age:\n",
            "                       mean_age\n",
            "occupation    gender           \n",
            "administrator F       40.638889\n",
            "              M       37.162791\n",
            "artist        F       30.307692\n",
            "              M       32.333333\n",
            "doctor        M       43.571429\n",
            "educator      F       39.115385\n",
            "              M       43.101449\n",
            "engineer      F       29.500000\n",
            "              M       36.600000\n",
            "entertainment F       31.000000\n",
            "              M       29.000000\n",
            "executive     F       44.000000\n",
            "              M       38.172414\n",
            "healthcare    F       39.818182\n",
            "              M       45.400000\n",
            "homemaker     F       34.166667\n",
            "              M       23.000000\n",
            "lawyer        F       39.500000\n",
            "              M       36.200000\n",
            "librarian     F       40.000000\n",
            "              M       40.000000\n",
            "marketing     F       37.200000\n",
            "              M       37.875000\n",
            "none          F       36.500000\n",
            "              M       18.600000\n",
            "other         F       35.472222\n",
            "              M       34.028986\n",
            "programmer    F       32.166667\n",
            "              M       33.216667\n",
            "retired       F       70.000000\n",
            "              M       62.538462\n",
            "salesman      F       27.000000\n",
            "              M       38.555556\n",
            "scientist     F       28.333333\n",
            "              M       36.321429\n",
            "student       F       20.750000\n",
            "              M       22.669118\n",
            "technician    F       38.000000\n",
            "              M       32.961538\n",
            "writer        F       37.631579\n",
            "              M       35.346154\n"
          ]
        }
      ]
    },
    {
      "cell_type": "markdown",
      "source": [
        "Step 8"
      ],
      "metadata": {
        "id": "r74ejxM-7C6I"
      }
    },
    {
      "cell_type": "code",
      "source": [
        "percentage_of_occupation_gender_wise = (users.groupby([\"occupation\" , \"gender\"]).size() / users.groupby(\"occupation\").size())*100\n",
        "print(\"For each occupation the percentage of women and men:\")\n",
        "print(percentage_of_occupation_gender_wise)"
      ],
      "metadata": {
        "colab": {
          "base_uri": "https://localhost:8080/"
        },
        "id": "ksbTGrICX0pt",
        "outputId": "2947deb5-164b-4418-b361-4e50c9165512"
      },
      "execution_count": null,
      "outputs": [
        {
          "output_type": "stream",
          "name": "stdout",
          "text": [
            "For each occupation the percentage of women and men:\n",
            "occupation     gender\n",
            "administrator  F          45.569620\n",
            "               M          54.430380\n",
            "artist         F          46.428571\n",
            "               M          53.571429\n",
            "doctor         M         100.000000\n",
            "educator       F          27.368421\n",
            "               M          72.631579\n",
            "engineer       F           2.985075\n",
            "               M          97.014925\n",
            "entertainment  F          11.111111\n",
            "               M          88.888889\n",
            "executive      F           9.375000\n",
            "               M          90.625000\n",
            "healthcare     F          68.750000\n",
            "               M          31.250000\n",
            "homemaker      F          85.714286\n",
            "               M          14.285714\n",
            "lawyer         F          16.666667\n",
            "               M          83.333333\n",
            "librarian      F          56.862745\n",
            "               M          43.137255\n",
            "marketing      F          38.461538\n",
            "               M          61.538462\n",
            "none           F          44.444444\n",
            "               M          55.555556\n",
            "other          F          34.285714\n",
            "               M          65.714286\n",
            "programmer     F           9.090909\n",
            "               M          90.909091\n",
            "retired        F           7.142857\n",
            "               M          92.857143\n",
            "salesman       F          25.000000\n",
            "               M          75.000000\n",
            "scientist      F           9.677419\n",
            "               M          90.322581\n",
            "student        F          30.612245\n",
            "               M          69.387755\n",
            "technician     F           3.703704\n",
            "               M          96.296296\n",
            "writer         F          42.222222\n",
            "               M          57.777778\n",
            "dtype: float64\n"
          ]
        }
      ]
    },
    {
      "cell_type": "code",
      "source": [],
      "metadata": {
        "id": "yeS3WZZraz_7"
      },
      "execution_count": null,
      "outputs": []
    }
  ]
}