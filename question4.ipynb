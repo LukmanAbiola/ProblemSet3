{
  "nbformat": 4,
  "nbformat_minor": 0,
  "metadata": {
    "colab": {
      "provenance": []
    },
    "kernelspec": {
      "name": "python3",
      "display_name": "Python 3"
    },
    "language_info": {
      "name": "python"
    }
  },
  "cells": [
    {
      "cell_type": "markdown",
      "source": [
        "##Question 4"
      ],
      "metadata": {
        "id": "SqOtS5iO5VBp"
      }
    },
    {
      "cell_type": "markdown",
      "source": [
        "Step 1"
      ],
      "metadata": {
        "id": "fpOLjdtPCMBE"
      }
    },
    {
      "cell_type": "code",
      "execution_count": 72,
      "metadata": {
        "id": "oTP-bLiXCGzI"
      },
      "outputs": [],
      "source": [
        "import pandas as pd\n",
        "import numpy as np\n",
        "from pandas.tseries.frequencies import to_offset"
      ]
    },
    {
      "cell_type": "markdown",
      "source": [
        "Step 2"
      ],
      "metadata": {
        "id": "ShbTX_4aCQBB"
      }
    },
    {
      "cell_type": "code",
      "source": [
        "data = pd.read_csv('wind.txt', delim_whitespace=True)\n",
        "print(\"Data:\\n\" , data.head())"
      ],
      "metadata": {
        "colab": {
          "base_uri": "https://localhost:8080/"
        },
        "id": "505NUnCkCPC_",
        "outputId": "0dba735c-3776-47e3-92d9-23eb0949c025"
      },
      "execution_count": 38,
      "outputs": [
        {
          "output_type": "stream",
          "name": "stdout",
          "text": [
            "Data:\n",
            "    Yr  Mo  Dy    RPT    VAL    ROS    KIL    SHA   BIR    DUB    CLA    MUL  \\\n",
            "0  61   1   1  15.04  14.96  13.17   9.29    NaN  9.87  13.67  10.25  10.83   \n",
            "1  61   1   2  14.71    NaN  10.83   6.50  12.62  7.67  11.50  10.04   9.79   \n",
            "2  61   1   3  18.50  16.88  12.33  10.13  11.17  6.17  11.25    NaN   8.50   \n",
            "3  61   1   4  10.58   6.63  11.75   4.58   4.54  2.88   8.63   1.79   5.83   \n",
            "4  61   1   5  13.33  13.25  11.42   6.17  10.71  8.21  11.92   6.54  10.92   \n",
            "\n",
            "     CLO    BEL    MAL  \n",
            "0  12.58  18.50  15.04  \n",
            "1   9.67  17.54  13.83  \n",
            "2   7.67  12.75  12.71  \n",
            "3   5.88   5.46  10.88  \n",
            "4  10.34  12.92  11.83  \n"
          ]
        }
      ]
    },
    {
      "cell_type": "markdown",
      "source": [
        "Step 3"
      ],
      "metadata": {
        "id": "txKOWBjcEIAy"
      }
    },
    {
      "cell_type": "code",
      "source": [
        "data['Date'] = pd.to_datetime(data[['Yr', 'Mo', 'Dy']].astype(str).agg('-'.join, axis=1))\n",
        "data = data.drop(columns=['Yr', 'Mo', 'Dy'])\n",
        "# data = data.set_index('Date')\n",
        "print(data.head())"
      ],
      "metadata": {
        "colab": {
          "base_uri": "https://localhost:8080/"
        },
        "id": "ix7mM2k0C1E_",
        "outputId": "7ba7e9d1-cc79-4878-cda0-5a27c5a967fb"
      },
      "execution_count": 39,
      "outputs": [
        {
          "output_type": "stream",
          "name": "stdout",
          "text": [
            "     RPT    VAL    ROS    KIL    SHA   BIR    DUB    CLA    MUL    CLO    BEL  \\\n",
            "0  15.04  14.96  13.17   9.29    NaN  9.87  13.67  10.25  10.83  12.58  18.50   \n",
            "1  14.71    NaN  10.83   6.50  12.62  7.67  11.50  10.04   9.79   9.67  17.54   \n",
            "2  18.50  16.88  12.33  10.13  11.17  6.17  11.25    NaN   8.50   7.67  12.75   \n",
            "3  10.58   6.63  11.75   4.58   4.54  2.88   8.63   1.79   5.83   5.88   5.46   \n",
            "4  13.33  13.25  11.42   6.17  10.71  8.21  11.92   6.54  10.92  10.34  12.92   \n",
            "\n",
            "     MAL       Date  \n",
            "0  15.04 2061-01-01  \n",
            "1  13.83 2061-01-02  \n",
            "2  12.71 2061-01-03  \n",
            "3  10.88 2061-01-04  \n",
            "4  11.83 2061-01-05  \n"
          ]
        }
      ]
    },
    {
      "cell_type": "markdown",
      "source": [
        "Step 4"
      ],
      "metadata": {
        "id": "qACeOEzPGmBW"
      }
    },
    {
      "cell_type": "code",
      "source": [
        "def year_fix(row_val):\n",
        "    if row_val['Date'].year > 2023:\n",
        "        # if year is greater than the current year, subtract 100 from that\n",
        "        return row_val['Date'].replace(year=row_val['Date'].year - 100)\n",
        "    else:\n",
        "        return row_val['Date']\n",
        "\n",
        "# data[\"Yr\"] = data[\"Yr\"].apply(year_fix)\n",
        "data['Date'] = data.apply(year_fix, axis=1)\n",
        "print(\"Year 2061 fix:\\n\" , data.head())\n",
        "\n"
      ],
      "metadata": {
        "colab": {
          "base_uri": "https://localhost:8080/"
        },
        "id": "nS1TPMOCEPgA",
        "outputId": "a2b7be95-7c19-4d41-94bb-00536b30bfbe"
      },
      "execution_count": 40,
      "outputs": [
        {
          "output_type": "stream",
          "name": "stdout",
          "text": [
            "Year 2061 fix:\n",
            "      RPT    VAL    ROS    KIL    SHA   BIR    DUB    CLA    MUL    CLO    BEL  \\\n",
            "0  15.04  14.96  13.17   9.29    NaN  9.87  13.67  10.25  10.83  12.58  18.50   \n",
            "1  14.71    NaN  10.83   6.50  12.62  7.67  11.50  10.04   9.79   9.67  17.54   \n",
            "2  18.50  16.88  12.33  10.13  11.17  6.17  11.25    NaN   8.50   7.67  12.75   \n",
            "3  10.58   6.63  11.75   4.58   4.54  2.88   8.63   1.79   5.83   5.88   5.46   \n",
            "4  13.33  13.25  11.42   6.17  10.71  8.21  11.92   6.54  10.92  10.34  12.92   \n",
            "\n",
            "     MAL       Date  \n",
            "0  15.04 1961-01-01  \n",
            "1  13.83 1961-01-02  \n",
            "2  12.71 1961-01-03  \n",
            "3  10.88 1961-01-04  \n",
            "4  11.83 1961-01-05  \n"
          ]
        }
      ]
    },
    {
      "cell_type": "markdown",
      "source": [
        "Step 5"
      ],
      "metadata": {
        "id": "Og0q65jiKiNB"
      }
    },
    {
      "cell_type": "code",
      "source": [
        "data = data.set_index('Date')\n",
        "print(\"After setting right dates as index:\\n\" , data.head())"
      ],
      "metadata": {
        "colab": {
          "base_uri": "https://localhost:8080/"
        },
        "id": "oOFFy9nlJ_5y",
        "outputId": "b55c535e-f534-4694-9e65-eccc7409acae"
      },
      "execution_count": 41,
      "outputs": [
        {
          "output_type": "stream",
          "name": "stdout",
          "text": [
            "After setting right dates as index:\n",
            "               RPT    VAL    ROS    KIL    SHA   BIR    DUB    CLA    MUL  \\\n",
            "Date                                                                       \n",
            "1961-01-01  15.04  14.96  13.17   9.29    NaN  9.87  13.67  10.25  10.83   \n",
            "1961-01-02  14.71    NaN  10.83   6.50  12.62  7.67  11.50  10.04   9.79   \n",
            "1961-01-03  18.50  16.88  12.33  10.13  11.17  6.17  11.25    NaN   8.50   \n",
            "1961-01-04  10.58   6.63  11.75   4.58   4.54  2.88   8.63   1.79   5.83   \n",
            "1961-01-05  13.33  13.25  11.42   6.17  10.71  8.21  11.92   6.54  10.92   \n",
            "\n",
            "              CLO    BEL    MAL  \n",
            "Date                             \n",
            "1961-01-01  12.58  18.50  15.04  \n",
            "1961-01-02   9.67  17.54  13.83  \n",
            "1961-01-03   7.67  12.75  12.71  \n",
            "1961-01-04   5.88   5.46  10.88  \n",
            "1961-01-05  10.34  12.92  11.83  \n"
          ]
        }
      ]
    },
    {
      "cell_type": "markdown",
      "source": [
        "Step 6"
      ],
      "metadata": {
        "id": "F2AzFXyNLkeW"
      }
    },
    {
      "cell_type": "code",
      "source": [
        "missing_values_per_location = data.isnull().sum()\n",
        "print(\"Missing values per location:\\n\" , missing_values_per_location)"
      ],
      "metadata": {
        "colab": {
          "base_uri": "https://localhost:8080/"
        },
        "id": "MGenuZ3UKmIp",
        "outputId": "dea15c53-e961-4578-fa48-dde8cc5d8ce4"
      },
      "execution_count": 43,
      "outputs": [
        {
          "output_type": "stream",
          "name": "stdout",
          "text": [
            "Missing values per location:\n",
            " RPT    6\n",
            "VAL    3\n",
            "ROS    2\n",
            "KIL    5\n",
            "SHA    2\n",
            "BIR    0\n",
            "DUB    3\n",
            "CLA    2\n",
            "MUL    3\n",
            "CLO    1\n",
            "BEL    0\n",
            "MAL    4\n",
            "dtype: int64\n"
          ]
        }
      ]
    },
    {
      "cell_type": "markdown",
      "source": [
        "Step 7"
      ],
      "metadata": {
        "id": "C0WoZDhILlxC"
      }
    },
    {
      "cell_type": "code",
      "source": [
        "non_missing_values = data.count().sum()\n",
        "print(\"Non-missing values in total:\\n\" , non_missing_values)"
      ],
      "metadata": {
        "colab": {
          "base_uri": "https://localhost:8080/"
        },
        "id": "2-TT-focLVo0",
        "outputId": "9438ec7e-6bb3-418e-a9f8-dc30f6a9a8dd"
      },
      "execution_count": 44,
      "outputs": [
        {
          "output_type": "stream",
          "name": "stdout",
          "text": [
            "Non-missing values in total:\n",
            " 78857\n"
          ]
        }
      ]
    },
    {
      "cell_type": "markdown",
      "source": [
        "Step 8"
      ],
      "metadata": {
        "id": "Rq4wXC6cMAA9"
      }
    },
    {
      "cell_type": "code",
      "source": [
        "mean_windspeeds = np.nanmean(data.values)\n",
        "print(\"Mean windspeeds of the windspeeds over all the locations and all the times:\\n\" , mean_windspeeds)"
      ],
      "metadata": {
        "colab": {
          "base_uri": "https://localhost:8080/"
        },
        "id": "MSynoXPwMNj7",
        "outputId": "10da63da-1420-4e77-f66a-aa893932e2ef"
      },
      "execution_count": 45,
      "outputs": [
        {
          "output_type": "stream",
          "name": "stdout",
          "text": [
            "Mean windspeeds of the windspeeds over all the locations and all the times:\n",
            " 10.22788376428218\n"
          ]
        }
      ]
    },
    {
      "cell_type": "markdown",
      "source": [
        "Step 9"
      ],
      "metadata": {
        "id": "n8W8j047QD2h"
      }
    },
    {
      "cell_type": "code",
      "source": [
        "loc_stats = data.agg({'min', 'max', 'mean', 'std'}).T\n",
        "print(\"Min, max and mean windspeeds and standard deviations of the windspeeds at each location:\\n\", loc_stats)"
      ],
      "metadata": {
        "colab": {
          "base_uri": "https://localhost:8080/"
        },
        "id": "ZJjwaa2OQSVP",
        "outputId": "cc1c6d0a-977f-4088-eacb-788e935821c1"
      },
      "execution_count": 46,
      "outputs": [
        {
          "output_type": "stream",
          "name": "stdout",
          "text": [
            "Min, max and mean windspeeds and standard deviations of the windspeeds at each location:\n",
            "       min       std       mean    max\n",
            "RPT  0.67  5.618413  12.362987  35.80\n",
            "VAL  0.21  5.267356  10.644314  33.37\n",
            "ROS  1.50  5.008450  11.660526  33.84\n",
            "KIL  0.00  3.605811   6.306468  28.46\n",
            "SHA  0.13  4.936125  10.455834  37.54\n",
            "BIR  0.00  3.968683   7.092254  26.16\n",
            "DUB  0.00  4.977555   9.797343  30.37\n",
            "CLA  0.00  4.499449   8.495053  31.08\n",
            "MUL  0.00  4.166872   8.493590  25.88\n",
            "CLO  0.04  4.503954   8.707332  28.21\n",
            "BEL  0.13  5.835037  13.121007  42.38\n",
            "MAL  0.67  6.699794  15.599079  42.54\n"
          ]
        }
      ]
    },
    {
      "cell_type": "markdown",
      "source": [
        "Step 10"
      ],
      "metadata": {
        "id": "g5ehJj1DRVlv"
      }
    },
    {
      "cell_type": "code",
      "source": [
        "mean_wind_speed_across_all_locations = data.mean(axis=1)\n",
        "grouped_by_day = mean_wind_speed_across_all_locations.groupby(data.index.day.rename('Day'))\n",
        "day_stats = grouped_by_day.agg(['min', 'max', 'mean', 'std'])\n",
        "\n",
        "print(\"day_stats: min, max and mean windspeed and standard deviations of the windspeeds across all the locations at each day:\\n\" , day_stats)"
      ],
      "metadata": {
        "colab": {
          "base_uri": "https://localhost:8080/"
        },
        "id": "Rc60t5_IT7Mx",
        "outputId": "5b81195e-dc78-45d7-a087-a213a78b79c3"
      },
      "execution_count": 55,
      "outputs": [
        {
          "output_type": "stream",
          "name": "stdout",
          "text": [
            "day_stats: min, max and mean windspeed and standard deviations of the windspeeds across all the locations at each day:\n",
            "           min        max       mean       std\n",
            "Day                                          \n",
            "1    2.402500  29.994167  10.532620  4.418214\n",
            "2    3.222500  26.236667  10.390365  4.514749\n",
            "3    3.165000  21.517500   9.920201  3.939575\n",
            "4    2.598333  21.715000   9.806661  4.015167\n",
            "5    2.282500  23.771667  10.114915  3.917657\n",
            "6    2.062500  23.283333  10.015224  4.453977\n",
            "7    2.840833  25.624167  10.101673  4.395235\n",
            "8    2.802500  20.981667   9.902049  4.065742\n",
            "9    2.890000  24.764167  10.399803  4.197974\n",
            "10   3.086667  23.653333  10.529325  4.491358\n",
            "11   3.212500  24.160000  10.560683  4.481103\n",
            "12   2.325833  25.039167  10.495718  4.871524\n",
            "13   3.037500  23.613333   9.889074  4.289324\n",
            "14   3.226667  25.355833  10.372138  4.528647\n",
            "15   2.498333  26.139167  10.073495  4.417735\n",
            "16   3.035000  24.403333  10.288977  4.590038\n",
            "17   3.295833  28.841667  10.374973  4.746188\n",
            "18   2.926667  21.880000  10.152459  4.396713\n",
            "19   2.567500  24.673333  10.220950  4.376312\n",
            "20   3.017500  23.721667  10.068786  4.209427\n",
            "21   2.287500  23.703333   9.774354  4.289666\n",
            "22   2.750833  24.384167  10.006636  4.350735\n",
            "23   2.514167  23.600000  10.505355  3.999849\n",
            "24   2.234167  23.663333  10.396698  4.136423\n",
            "25   2.590000  25.467500  10.435988  4.261661\n",
            "26   2.653333  23.975000   9.927810  4.319961\n",
            "27   2.496667  26.843333  10.345127  4.636004\n",
            "28   2.485000  23.921667  10.209516  4.166212\n",
            "29   3.373333  22.349167  10.341877  4.254877\n",
            "30   3.650000  22.736667  10.629337  4.044755\n",
            "31   2.773333  22.740000  10.410893  4.227855\n"
          ]
        }
      ]
    },
    {
      "cell_type": "markdown",
      "source": [
        "Step 11"
      ],
      "metadata": {
        "id": "y5ooR0jxXPwp"
      }
    },
    {
      "cell_type": "code",
      "source": [
        "january_avg_windspeed = data[data.index.month == 1].mean()\n",
        "print(\"Average windspeed for January month for each location:\\n\" , january_avg_windspeed)"
      ],
      "metadata": {
        "colab": {
          "base_uri": "https://localhost:8080/"
        },
        "id": "JaVxlCTkZV22",
        "outputId": "5616fd91-1e05-45a3-e616-2c029fb995ab"
      },
      "execution_count": 59,
      "outputs": [
        {
          "output_type": "stream",
          "name": "stdout",
          "text": [
            "Average windspeed for January month for each location:\n",
            " RPT    14.847325\n",
            "VAL    12.914560\n",
            "ROS    13.299624\n",
            "KIL     7.199498\n",
            "SHA    11.667734\n",
            "BIR     8.054839\n",
            "DUB    11.819355\n",
            "CLA     9.512047\n",
            "MUL     9.543208\n",
            "CLO    10.053566\n",
            "BEL    14.550520\n",
            "MAL    18.028763\n",
            "dtype: float64\n"
          ]
        }
      ]
    },
    {
      "cell_type": "markdown",
      "source": [
        "Step 12"
      ],
      "metadata": {
        "id": "sJRWUcBqbHgW"
      }
    },
    {
      "cell_type": "code",
      "source": [
        "yearly_frequency_for_each_location = data.resample('Y').mean()\n",
        "yearly_frequency_for_each_location.index = yearly_frequency_for_each_location.index.year\n",
        "yearly_frequency_for_each_location = yearly_frequency_for_each_location.rename_axis('Year')\n",
        "\n",
        "print(\"Downsample to a yearly frequency for each location:\\n\", yearly_frequency_for_each_location)"
      ],
      "metadata": {
        "colab": {
          "base_uri": "https://localhost:8080/"
        },
        "id": "LGue55IeZ_t7",
        "outputId": "c5499fbb-6638-4870-f0a6-d19d27f583b9"
      },
      "execution_count": 64,
      "outputs": [
        {
          "output_type": "stream",
          "name": "stdout",
          "text": [
            "Downsample to a yearly frequency for each location:\n",
            "             RPT        VAL        ROS       KIL        SHA       BIR  \\\n",
            "Year                                                                   \n",
            "1961  12.299583  10.351796  11.362369  6.958227  10.881763  7.729726   \n",
            "1962  12.246923  10.110438  11.732712  6.960440  10.657918  7.393068   \n",
            "1963  12.813452  10.836986  12.541151  7.330055  11.724110  8.434712   \n",
            "1964  12.363661  10.920164  12.104372  6.787787  11.454481  7.570874   \n",
            "1965  12.451370  11.075534  11.848767  6.858466  11.024795  7.478110   \n",
            "1966  13.461973  11.557205  12.020630  7.345726  11.805041  7.793671   \n",
            "1967  12.737151  10.990986  11.739397  7.143425  11.630740  7.368164   \n",
            "1968  11.835628  10.468197  11.409754  6.477678  10.760765  6.067322   \n",
            "1969  11.166356   9.723699  10.902000  5.767973   9.873918  6.189973   \n",
            "1970  12.600329  10.726932  11.730247  6.217178  10.567370  7.609452   \n",
            "1971  11.273123   9.095178  11.088329  5.241507   9.440329  6.097151   \n",
            "1972  12.463962  10.561311  12.058333  5.929699   9.430410  6.358825   \n",
            "1973  11.828466  10.680493  10.680493  5.547863   9.640877  6.548740   \n",
            "1974  13.643096  11.811781  12.336356  6.427041  11.110986  6.809781   \n",
            "1975  12.008575  10.293836  11.564712  5.269096   9.190082  5.668521   \n",
            "1976  11.737842  10.203115  10.761230  5.109426   8.846339  6.311038   \n",
            "1977  13.099616  11.144493  12.627836  6.073945  10.003836  8.586438   \n",
            "1978  12.504356  11.044274  11.380000  6.082356  10.167233  7.650658   \n",
            "\n",
            "            DUB        CLA       MUL        CLO        BEL        MAL  \n",
            "Year                                                                   \n",
            "1961   9.733923   8.858788  8.647652   9.835577  13.502795  13.680773  \n",
            "1962  11.020712   8.793753  8.316822   9.676247  12.930685  14.323956  \n",
            "1963  11.075699  10.336548  8.903589  10.224438  13.638877  14.999014  \n",
            "1964  10.259153   9.467350  7.789016  10.207951  13.740546  14.910301  \n",
            "1965  10.618712   8.879918  7.907425   9.918082  12.964247  15.591644  \n",
            "1966  10.579808   8.835096  8.514438   9.768959  14.265836  16.307260  \n",
            "1967  10.652027   9.325616  8.645014   9.547425  14.774548  17.135945  \n",
            "1968   8.859180   8.255519  7.224945   7.832978  12.808634  15.017486  \n",
            "1969   8.564493   7.711397  7.924521   7.754384  12.621233  15.762904  \n",
            "1970   9.609890   8.334630  9.297616   8.289808  13.183644  16.456027  \n",
            "1971   8.385890   6.757315  7.915370   7.229753  12.208932  15.025233  \n",
            "1972   9.704508   7.680792  8.357295   7.515273  12.727377  15.028716  \n",
            "1973   8.482110   7.614274  8.245534   7.812411  12.169699  15.441096  \n",
            "1974  10.084603   9.896986  9.331753   8.736356  13.252959  16.947671  \n",
            "1975   8.562603   7.843836  8.797945   7.382822  12.631671  15.307863  \n",
            "1976   9.149126   7.146202  8.883716   7.883087  12.332377  15.471448  \n",
            "1977  11.523205   8.378384  9.098192   8.821616  13.459068  16.590849  \n",
            "1978   9.489342   8.800466  9.089753   8.301699  12.967397  16.771370  \n"
          ]
        }
      ]
    },
    {
      "cell_type": "markdown",
      "source": [
        "Step 13"
      ],
      "metadata": {
        "id": "65YNUyDBct7z"
      }
    },
    {
      "cell_type": "code",
      "source": [
        "monthly_frequency_for_each_location = data.resample('M').mean()\n",
        "monthly_frequency_for_each_location.index = monthly_frequency_for_each_location.index.month\n",
        "monthly_frequency_for_each_location = monthly_frequency_for_each_location.rename_axis('Month')\n",
        "\n",
        "print(\"Downsample to a monthly frequency for each location:\\n\", monthly_frequency_for_each_location)"
      ],
      "metadata": {
        "colab": {
          "base_uri": "https://localhost:8080/"
        },
        "id": "qqleSfJTcOqe",
        "outputId": "e036b923-50f9-4100-f98b-2f38eee48636"
      },
      "execution_count": 65,
      "outputs": [
        {
          "output_type": "stream",
          "name": "stdout",
          "text": [
            "Downsample to a monthly frequency for each location:\n",
            "              RPT        VAL        ROS       KIL        SHA        BIR  \\\n",
            "Month                                                                    \n",
            "1      14.841333  11.988333  13.431613  7.736774  11.072759   8.588065   \n",
            "2      16.269286  14.975357  14.441481  9.230741  13.852143  10.937500   \n",
            "3      10.890000  11.296452  10.752903  7.284000  10.509355   8.866774   \n",
            "4      10.722667   9.427667   9.998000  5.830667   8.435000   6.495000   \n",
            "5       9.860968   8.850000  10.818065  5.905333   9.490323   6.574839   \n",
            "...          ...        ...        ...       ...        ...        ...   \n",
            "8       9.645161   8.259355   9.032258  4.502903   7.368065   5.935161   \n",
            "9      10.913667  10.895000  10.635000  5.725000  10.372000   9.278333   \n",
            "10      9.897742   8.670968   9.295806  4.721290   8.525161   6.774194   \n",
            "11     16.151667  14.802667  13.508000  7.317333  11.475000   8.743000   \n",
            "12     16.175484  13.748065  15.635161  7.094839  11.398710   9.241613   \n",
            "\n",
            "             DUB        CLA        MUL        CLO        BEL        MAL  \n",
            "Month                                                                    \n",
            "1      11.184839   9.245333   9.085806  10.107419  13.880968  14.703226  \n",
            "2      11.890714  11.846071  11.821429  12.714286  18.583214  15.411786  \n",
            "3       9.644194   9.829677  10.294138  11.251935  16.410968  15.720000  \n",
            "4       6.925333   7.094667   7.342333   7.237000  11.147333  10.278333  \n",
            "5       7.604000   8.177097   8.039355   8.499355  11.900323  12.011613  \n",
            "...          ...        ...        ...        ...        ...        ...  \n",
            "8       5.650323   5.417742   7.241290   5.536774  10.466774  12.054194  \n",
            "9      10.790333   9.583000  10.069333   8.939000  15.680333  19.391333  \n",
            "10      8.115484   7.337742   8.297742   8.243871  13.776774  17.150000  \n",
            "11     11.492333   9.657333  10.701333  10.676000  17.404667  20.723000  \n",
            "12     12.077419  10.194839  10.616774  11.028710  13.859677  21.371613  \n",
            "\n",
            "[216 rows x 12 columns]\n"
          ]
        }
      ]
    },
    {
      "cell_type": "markdown",
      "source": [
        "Step 14"
      ],
      "metadata": {
        "id": "3XnbHy0ci0i7"
      }
    },
    {
      "cell_type": "code",
      "source": [
        "weekly_frequency_for_each_location = data.resample('W').mean()\n",
        "weekly_frequency_for_each_location.index = weekly_frequency_for_each_location.index.month\n",
        "weekly_frequency_for_each_location = weekly_frequency_for_each_location.rename_axis('Week')\n",
        "\n",
        "print(\"Downsample to a weekly frequency for each location:\\n\", weekly_frequency_for_each_location)"
      ],
      "metadata": {
        "colab": {
          "base_uri": "https://localhost:8080/"
        },
        "id": "Pfm3vVaxc6by",
        "outputId": "5bb51c3f-d1e4-4c24-abcd-20ce79a921db"
      },
      "execution_count": 68,
      "outputs": [
        {
          "output_type": "stream",
          "name": "stdout",
          "text": [
            "Downsample to a weekly frequency for each location:\n",
            "             RPT        VAL        ROS        KIL        SHA        BIR  \\\n",
            "Week                                                                     \n",
            "1     15.040000  14.960000  13.170000   9.290000        NaN   9.870000   \n",
            "1     13.541429  11.486667  10.487143   6.417143   9.474286   6.435714   \n",
            "1     12.468571   8.967143  11.958571   4.630000   7.351429   5.072857   \n",
            "1     13.204286   9.862857  12.982857   6.328571   8.966667   7.417143   \n",
            "1     19.880000  16.141429  18.225714  12.720000  17.432857  14.828571   \n",
            "...         ...        ...        ...        ...        ...        ...   \n",
            "12    14.934286  11.232857  13.941429   5.565714  10.215714   8.618571   \n",
            "12    20.740000  19.190000  17.034286   9.777143  15.287143  12.774286   \n",
            "12    16.758571  14.692857  14.987143   6.917143  11.397143   7.272857   \n",
            "12    11.155714   8.008571  13.172857   4.004286   7.825714   6.290000   \n",
            "12    14.951429  11.801429  16.035714   6.507143   9.660000   8.620000   \n",
            "\n",
            "            DUB        CLA        MUL        CLO        BEL        MAL  \n",
            "Week                                                                    \n",
            "1     13.670000  10.250000  10.830000  12.580000  18.500000  15.040000  \n",
            "1     11.061429   6.616667   8.434286   8.497143  12.481429  13.238571  \n",
            "1      7.535714   6.820000   5.712857   7.571429  11.125714  11.024286  \n",
            "1      9.257143   7.875714   7.145714   8.124286   9.821429  11.434286  \n",
            "1     15.528571  15.160000  14.480000  15.640000  20.930000  22.530000  \n",
            "...         ...        ...        ...        ...        ...        ...  \n",
            "12     9.642857   7.685714   9.011429   9.547143  11.835714  18.728571  \n",
            "12    14.437143  12.488571  13.870000  14.082857  18.517143  23.061429  \n",
            "12    10.208571   7.967143   9.168571   8.565714  11.102857  15.562857  \n",
            "12     7.798571   8.667143   7.151429   8.072857  11.845714  18.977143  \n",
            "12    13.708571  10.477143  10.868571  11.471429  12.947143  26.844286  \n",
            "\n",
            "[940 rows x 12 columns]\n"
          ]
        }
      ]
    },
    {
      "cell_type": "markdown",
      "source": [
        "Step 15"
      ],
      "metadata": {
        "id": "YgrTT5ow8Uke"
      }
    },
    {
      "cell_type": "code",
      "source": [
        "weekly_windspeed = data.resample('W-MON', closed='right', label='right').mean()\n",
        "# shifting for January 2, so offset by 1\n",
        "weekly_windspeed.index = weekly_windspeed.index + to_offset(\"1D\")\n",
        "\n",
        "# Fetching only first 52 weeks\n",
        "first_52_weeks = weekly_windspeed.head(52)\n",
        "weekly_stats = first_52_weeks.agg(['min', 'max', 'mean', 'std'], axis=1)\n",
        "\n",
        "weekly_stats.index = weekly_stats.index.strftime('%U')\n",
        "weekly_stats = weekly_stats.rename_axis('Week')\n",
        "print(weekly_stats)\n"
      ],
      "metadata": {
        "colab": {
          "base_uri": "https://localhost:8080/"
        },
        "id": "DxXNJ2HLgY-M",
        "outputId": "2c154b01-2a1d-494d-d1aa-589d7a5677c1"
      },
      "execution_count": 77,
      "outputs": [
        {
          "output_type": "stream",
          "name": "stdout",
          "text": [
            "            min        max       mean       std\n",
            "Week                                           \n",
            "01     7.895000  18.020000  12.311667  2.909304\n",
            "02     6.167143  13.458571   9.640496  2.575846\n",
            "03     4.624286  13.017143   8.391310  2.842770\n",
            "04     7.150000  13.392857   9.925556  2.183014\n",
            "05    12.357143  22.340000  16.729028  2.988786\n",
            "06     9.311429  18.582857  12.918214  3.030879\n",
            "07    10.770000  22.152857  15.569405  3.305013\n",
            "08     8.281429  19.234286  12.590655  2.902097\n",
            "09     8.315714  17.005714  12.920714  2.492463\n",
            "10     7.300000  16.444286  10.751290  2.313917\n",
            "11     7.494286  18.057143  11.617877  2.945308\n",
            "12     7.815714  18.577143  11.831429  3.109227\n",
            "13     5.505714  17.312857   9.403571  3.148063\n",
            "14     7.528333  14.024286  10.773651  1.728760\n",
            "15     5.798571  12.547143   8.938095  2.207989\n",
            "16     4.458571   9.828571   6.573690  1.837791\n",
            "17     8.227143  13.595714  10.643214  1.838235\n",
            "18     5.515714  11.021429   8.193690  1.998838\n",
            "19    10.090000  17.552857  13.620238  2.145580\n",
            "20     4.314286   8.702857   6.670972  1.374801\n",
            "21     4.061429  11.411429   7.300000  2.351056\n",
            "22     4.780000  12.702857   8.064008  2.344159\n",
            "23     5.708571  12.960000   8.978690  2.271478\n",
            "24     5.115714  12.114286   8.172500  2.081590\n",
            "25     6.698571  16.155714  10.533690  2.820740\n",
            "26     5.572857  16.660000  10.036071  3.213309\n",
            "27     7.201429  15.904286  10.340813  2.563225\n",
            "28     6.832857  13.797143   9.196647  2.078194\n",
            "29     8.198571  16.054286  11.594643  2.312691\n",
            "30     2.852857   7.987143   5.314048  1.695954\n",
            "31     5.918571  14.267143   9.520357  2.282987\n",
            "32     6.077143  13.218571   9.377857  2.037304\n",
            "33     5.900000  12.315000   9.351726  1.956986\n",
            "34     9.011429  17.435714  13.237262  2.512534\n",
            "35     7.215714  16.328571  11.718929  2.644762\n",
            "36     4.321429  11.472857   6.804048  2.053783\n",
            "37     6.387143  12.648571   9.065476  2.038477\n",
            "38    10.588571  18.920000  14.296667  2.942733\n",
            "39     4.985714  12.870000   7.977381  2.279029\n",
            "40     8.762857  16.580000  11.704921  2.617872\n",
            "41     5.204286  11.682857   8.090833  2.294498\n",
            "42     6.554286  16.944286  10.174821  3.229020\n",
            "43    11.114286  23.695714  15.876905  3.559088\n",
            "44     7.778571  17.778571  11.994266  3.020417\n",
            "45     7.064286  18.178571  10.990595  3.129724\n",
            "46     4.744286  14.255714   8.477381  2.962276\n",
            "47     3.948571  14.381429   6.750238  3.059382\n",
            "48     5.000000  12.328571   8.290020  2.348823\n",
            "49     7.310000  16.630000  11.318333  2.960049\n",
            "50     9.088571  17.150000  13.507619  2.783435\n",
            "51     7.007143  13.675714  10.988452  2.135537\n",
            "52     6.457143  16.815714  10.121190  3.215027\n"
          ]
        }
      ]
    },
    {
      "cell_type": "code",
      "source": [],
      "metadata": {
        "id": "3qngpI0qhMo2"
      },
      "execution_count": null,
      "outputs": []
    }
  ]
}